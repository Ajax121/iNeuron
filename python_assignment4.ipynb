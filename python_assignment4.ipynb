{
  "nbformat": 4,
  "nbformat_minor": 0,
  "metadata": {
    "colab": {
      "name": "python assignment4.ipynb",
      "provenance": [],
      "authorship_tag": "ABX9TyPqb5LizIqxcE2hhU7N4hh8"
    },
    "kernelspec": {
      "name": "python3",
      "display_name": "Python 3"
    }
  },
  "cells": [
    {
      "cell_type": "markdown",
      "metadata": {
        "id": "I0z_tVtM9TvY"
      },
      "source": [
        "1.1 Write a Python Program(with class concepts) to find the area of the triangle using the below\n",
        "formula.\n",
        "area = (s*(s-a)*(s-b)*(s-c)) * * 0.5\n",
        "Function to take the length of the sides of triangle from user should be defined in the parent\n",
        "class and function to calculate the area should be defined in subclass."
      ]
    },
    {
      "cell_type": "code",
      "metadata": {
        "id": "CD6Rn0nD9UVm",
        "outputId": "642d0448-0564-48da-ab30-054e51c74e0b",
        "colab": {
          "base_uri": "https://localhost:8080/",
          "height": 34
        }
      },
      "source": [
        "class Length_of_Sides_Triangle:\n",
        "  def __init__(self,a,b,c):\n",
        "    self.a = a\n",
        "    self.b = b\n",
        "    self.c = c\n",
        "\n",
        "  def __str__(self):\n",
        "    return \"Triangle with sides %0.2f %0.2f %0.2f \" % (self.a,self.b,self.c)\n",
        "\n",
        "class Triangle(Length_of_Sides_Triangle):\n",
        "  def __init__(self, *args):\n",
        "    super().__init__(*args)\n",
        "\n",
        "  def area(self):\n",
        "    s = (self.a + self.b + self.c) * 0.5\n",
        "    return ((s*(s-self.a)*(s-self.b)*(s-self.c))**0.5)\n",
        "  \n",
        "  def __str__(self):\n",
        "    return super().__str__() + \"has area of \" \n",
        "\n",
        "a = Triangle(5,5,5)\n",
        "print(a,a.area())"
      ],
      "execution_count": 1,
      "outputs": [
        {
          "output_type": "stream",
          "text": [
            "Triangle with sides 5.00 5.00 5.00 has area of  10.825317547305483\n"
          ],
          "name": "stdout"
        }
      ]
    },
    {
      "cell_type": "markdown",
      "metadata": {
        "id": "OEwhUNF-9Ype"
      },
      "source": [
        "1.2 Write a function filter_long_words() that takes a list of words and an integer n and returns\n",
        "the list of words that are longer than n."
      ]
    },
    {
      "cell_type": "code",
      "metadata": {
        "id": "sKgUKPks9Z-d",
        "outputId": "dae217b4-ea68-469a-9d9f-7493a99b0b22",
        "colab": {
          "base_uri": "https://localhost:8080/",
          "height": 68
        }
      },
      "source": [
        "class Sentence:\n",
        "  def __init__(self,sentence):\n",
        "    self.sentence = sentence\n",
        "  \n",
        "  def filter_long_words(self,n, *args):\n",
        "    self.n = n\n",
        "    b=self.sentence.split(\" \") \n",
        "    return [i for i in b if len(i)>self.n]\n",
        "\n",
        "  def __str__(self):\n",
        "    return \"Class to filter words from sentence\"\n",
        "inp = input(\"Enter a sentence: \")\n",
        "sent = Sentence(inp)\n",
        "n = input(\"Enter the length of word that should be filtered: \")\n",
        "print(\"Filtered list of words from sentence  = \",sent.filter_long_words(int(n)))\n"
      ],
      "execution_count": 2,
      "outputs": [
        {
          "output_type": "stream",
          "text": [
            "Enter a sentence: list of words and an integer n and returns the list of words\n",
            "Enter the length of word that should be filtered: 2\n",
            "Filtered list of words from sentence  =  ['list', 'words', 'and', 'integer', 'and', 'returns', 'the', 'list', 'words']\n"
          ],
          "name": "stdout"
        }
      ]
    },
    {
      "cell_type": "markdown",
      "metadata": {
        "id": "JqOnjv-M9fGv"
      },
      "source": [
        "2.1 Write a Python program using function concept that maps list of words into a list of integers\n",
        "representing the lengths of the corresponding words.\n",
        "Hint: If a list [ ab,cde,erty] is passed on to the python function output should come as [2,3,4]\n",
        "Here 2,3 and 4 are the lengths of the words in the list."
      ]
    },
    {
      "cell_type": "code",
      "metadata": {
        "id": "3Yf3F_aU9fwj",
        "outputId": "46a85b97-62e0-4a3f-91c9-a783a90d7b8b",
        "colab": {
          "base_uri": "https://localhost:8080/",
          "height": 51
        }
      },
      "source": [
        "def words_2_len(sentence):\n",
        "  sent = sentence.split(\" \")\n",
        "  return list(map(lambda x:len(x),sent))\n",
        "\n",
        "inp = input(\"Enter any sentence: \")\n",
        "print(\"Lenght of words in sentence = \", words_2_len(inp))"
      ],
      "execution_count": 3,
      "outputs": [
        {
          "output_type": "stream",
          "text": [
            "Enter any sentence: list of words and an integer n and returns the list of words\n",
            "Lenght of words in sentence =  [4, 2, 5, 3, 2, 7, 1, 3, 7, 3, 4, 2, 5]\n"
          ],
          "name": "stdout"
        }
      ]
    },
    {
      "cell_type": "markdown",
      "metadata": {
        "id": "chGEqweT9jMB"
      },
      "source": [
        "2.2 Write a Python function which takes a character (i.e. a string of length 1) and returns True if\n",
        "it is a vowel, False otherwise."
      ]
    },
    {
      "cell_type": "code",
      "metadata": {
        "id": "F4P3YETPTK9p",
        "outputId": "10c1ec21-f09a-467e-8062-50c398ecc02f",
        "colab": {
          "base_uri": "https://localhost:8080/",
          "height": 51
        }
      },
      "source": [
        "def vowel_check(char):\n",
        "  if char =='a' or char =='e' or char =='i' or char =='o' or char =='u':\n",
        "    return True\n",
        "  else:\n",
        "    return False\n",
        "\n",
        "inp = input(\"Enter any character: \")\n",
        "vowel_check(inp)"
      ],
      "execution_count": 4,
      "outputs": [
        {
          "output_type": "stream",
          "text": [
            "Enter any character: a\n"
          ],
          "name": "stdout"
        },
        {
          "output_type": "execute_result",
          "data": {
            "text/plain": [
              "True"
            ]
          },
          "metadata": {
            "tags": []
          },
          "execution_count": 4
        }
      ]
    },
    {
      "cell_type": "code",
      "metadata": {
        "id": "qW8eQtuxYn8Y"
      },
      "source": [
        ""
      ],
      "execution_count": null,
      "outputs": []
    }
  ]
}