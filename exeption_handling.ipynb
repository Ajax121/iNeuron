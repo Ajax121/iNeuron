{
  "nbformat": 4,
  "nbformat_minor": 0,
  "metadata": {
    "colab": {
      "name": "exeption handling.ipynb",
      "provenance": [],
      "authorship_tag": "ABX9TyNUjWgU9oAKqQWpaMRnsBQx"
    },
    "kernelspec": {
      "name": "python3",
      "display_name": "Python 3"
    }
  },
  "cells": [
    {
      "cell_type": "markdown",
      "metadata": {
        "id": "rXiIC60PZIJW"
      },
      "source": [
        "1. Write a function to compute 5/0 and use try/except to catch the exceptions."
      ]
    },
    {
      "cell_type": "code",
      "metadata": {
        "id": "PCWcPMCsZJew",
        "outputId": "5fa7320f-414d-417b-aa51-64a83a36bdec",
        "colab": {
          "base_uri": "https://localhost:8080/",
          "height": 51
        }
      },
      "source": [
        "try:\n",
        "  5/0\n",
        "except Exception as e:\n",
        "  print(\"Error:\", str(e))\n",
        "finally:\n",
        "  print(\"check done\")\n",
        "\n"
      ],
      "execution_count": 7,
      "outputs": [
        {
          "output_type": "stream",
          "text": [
            "Error: division by zero\n",
            "check done\n"
          ],
          "name": "stdout"
        }
      ]
    },
    {
      "cell_type": "markdown",
      "metadata": {
        "id": "xpmMRL8SZbo5"
      },
      "source": [
        "2. Implement a Python program to generate all sentences where subject is in\n",
        "[\"Americans\", \"Indians\"] and verb is in [\"Play\", \"watch\"] and the object is in\n",
        "[\"Baseball\",\"cricket\"]."
      ]
    },
    {
      "cell_type": "code",
      "metadata": {
        "id": "oSVM2cb6ZcUE",
        "outputId": "6a7bedf6-4e0a-483e-c539-4746b7c0a057",
        "colab": {
          "base_uri": "https://localhost:8080/",
          "height": 153
        }
      },
      "source": [
        "def combinations(subject,verb,object):\n",
        "  for i in subject:\n",
        "    for j in verb:\n",
        "      for k in object:\n",
        "        print(i,j,k)\n",
        "\n",
        "subjects = [\"Americans\", \"Indians\"]\n",
        "verbs = [\"Play\", \"watch\"]\n",
        "objects = [\"Baseball\",\"cricket\"]\n",
        "\n",
        "combinations(subjects,verbs,objects)"
      ],
      "execution_count": 11,
      "outputs": [
        {
          "output_type": "stream",
          "text": [
            "Americans Play Baseball\n",
            "Americans Play cricket\n",
            "Americans watch Baseball\n",
            "Americans watch cricket\n",
            "Indians Play Baseball\n",
            "Indians Play cricket\n",
            "Indians watch Baseball\n",
            "Indians watch cricket\n"
          ],
          "name": "stdout"
        }
      ]
    },
    {
      "cell_type": "code",
      "metadata": {
        "id": "eG9TBNutaq64"
      },
      "source": [
        ""
      ],
      "execution_count": null,
      "outputs": []
    }
  ]
}