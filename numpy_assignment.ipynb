{
  "nbformat": 4,
  "nbformat_minor": 0,
  "metadata": {
    "colab": {
      "name": "numpy assignment.ipynb",
      "provenance": [],
      "collapsed_sections": [],
      "authorship_tag": "ABX9TyNOcE8Mo3r4Dv034GCcpEiV"
    },
    "kernelspec": {
      "name": "python3",
      "display_name": "Python 3"
    }
  },
  "cells": [
    {
      "cell_type": "markdown",
      "metadata": {
        "id": "RiOaAkTpi3SI"
      },
      "source": [
        "1.Write a function so that the columns of the output matrix are powers of the input vector [Alexandre-\n",
        "Theophile Vandermonde matrix].\n",
        "\n",
        "The i-th output column is the input vector raised element-wise to the power\n",
        "of N - i - 1."
      ]
    },
    {
      "cell_type": "code",
      "metadata": {
        "id": "RmVZEL6UjCXm",
        "outputId": "595ff6af-2039-4d7b-88c3-dce09ea3e25f",
        "colab": {
          "base_uri": "https://localhost:8080/",
          "height": 85
        }
      },
      "source": [
        "import numpy as np\n",
        "\n",
        "def ATV_matrix(lst,n=None):\n",
        "  mat = []\n",
        "  if n == None:\n",
        "    n = len(lst)\n",
        "  else:\n",
        "    n=n\n",
        "  for i in range(n):\n",
        "    for j in lst:\n",
        "      mat = np.append(mat,(j**(n-1-i)))\n",
        "  return mat.reshape((n,len(lst))).transpose()\n",
        "\n",
        "x = [1,2,3,4]\n",
        "ATV_matrix(x)\n",
        "\n"
      ],
      "execution_count": 1,
      "outputs": [
        {
          "output_type": "execute_result",
          "data": {
            "text/plain": [
              "array([[ 1.,  1.,  1.,  1.],\n",
              "       [ 8.,  4.,  2.,  1.],\n",
              "       [27.,  9.,  3.,  1.],\n",
              "       [64., 16.,  4.,  1.]])"
            ]
          },
          "metadata": {
            "tags": []
          },
          "execution_count": 1
        }
      ]
    },
    {
      "cell_type": "code",
      "metadata": {
        "id": "2ZLOz9IN9CX6",
        "outputId": "ff013c66-6f7c-4206-d5cc-85f3b38dbcdd",
        "colab": {
          "base_uri": "https://localhost:8080/",
          "height": 85
        }
      },
      "source": [
        "# Another method\n",
        "\n",
        "x= np.array([1,2,3,4])\n",
        "N=4\n",
        "np.column_stack([x**(N-1-i) for i in range(N)])"
      ],
      "execution_count": 2,
      "outputs": [
        {
          "output_type": "execute_result",
          "data": {
            "text/plain": [
              "array([[ 1,  1,  1,  1],\n",
              "       [ 8,  4,  2,  1],\n",
              "       [27,  9,  3,  1],\n",
              "       [64, 16,  4,  1]])"
            ]
          },
          "metadata": {
            "tags": []
          },
          "execution_count": 2
        }
      ]
    },
    {
      "cell_type": "markdown",
      "metadata": {
        "id": "iHVOAsnIjI9T"
      },
      "source": [
        "2. Write a function to find moving average in an array over a window:\n",
        "\n",
        "Test it over [3, 5, 7, 2, 8, 10, 11, 65, 72, 81, 99, 100, 150] and window of 3.\n",
        "(n-k+1 elements (n - values, k - window size))"
      ]
    },
    {
      "cell_type": "code",
      "metadata": {
        "id": "mWqPVYZdjOJy",
        "outputId": "57b44126-4d5b-417c-ba73-c48476918b13",
        "colab": {
          "base_uri": "https://localhost:8080/",
          "height": 68
        }
      },
      "source": [
        "import numpy as np\n",
        "\n",
        "def moving_avg(lst,win):\n",
        "  mw = []\n",
        "  for i in range(len(lst)): \n",
        "    if len(lst[i:i+win]) == win:\n",
        "      mw = np.append(mw,np.sum(lst[i:i+win])/win)\n",
        "  return mw\n",
        "\n",
        "lst = [3, 5, 7, 2, 8, 10, 11, 65, 72, 81, 99, 100, 150] \n",
        "window = 3\n",
        "\n",
        "moving_avg(lst,window)"
      ],
      "execution_count": 3,
      "outputs": [
        {
          "output_type": "execute_result",
          "data": {
            "text/plain": [
              "array([  5.        ,   4.66666667,   5.66666667,   6.66666667,\n",
              "         9.66666667,  28.66666667,  49.33333333,  72.66666667,\n",
              "        84.        ,  93.33333333, 116.33333333])"
            ]
          },
          "metadata": {
            "tags": []
          },
          "execution_count": 3
        }
      ]
    },
    {
      "cell_type": "code",
      "metadata": {
        "id": "fLpp_GtQTz1F"
      },
      "source": [
        ""
      ],
      "execution_count": null,
      "outputs": []
    }
  ]
}