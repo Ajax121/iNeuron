{
  "nbformat": 4,
  "nbformat_minor": 0,
  "metadata": {
    "colab": {
      "name": "python assignment 3.ipynb",
      "provenance": [],
      "authorship_tag": "ABX9TyPaiHpvLuARPNVuJrxKDjuN"
    },
    "kernelspec": {
      "name": "python3",
      "display_name": "Python 3"
    }
  },
  "cells": [
    {
      "cell_type": "markdown",
      "metadata": {
        "id": "rBrvljqxs-mj"
      },
      "source": [
        "1.1 Write a Python Program to implement your own myreduce() function which works exactly\n",
        "like Python's built-in function reduce()\n",
        "\n",
        "1.2 Write a Python program to implement your own myfilter() function which works exactly\n",
        "like Python's built-in function filter()"
      ]
    },
    {
      "cell_type": "code",
      "metadata": {
        "id": "FTMg0O1Ou0xq",
        "outputId": "ab4afadb-5a3f-4e7d-87ca-8ba04e854e09",
        "colab": {
          "base_uri": "https://localhost:8080/",
          "height": 85
        }
      },
      "source": [
        "def myreduce(fn,lst):\n",
        "  x = lst[0]\n",
        "  for i in range(1,len(lst)):\n",
        "    x = fn(x,lst[i])\n",
        "  return x\n",
        "\n",
        "def myfilter(fn,lst):\n",
        "  return [i for i in lst if fn(i)]\n",
        "\n",
        "#Example function\n",
        "def even_check(num):\n",
        "    if num%2 ==0:\n",
        "        return True\n",
        "\n",
        "lst =[1,2,3,4,5,6,7,8]\n",
        "\n",
        "print(\"Even number list using filter: \",list(myfilter(even_check,lst)))\n",
        "print(\"\\n\")\n",
        "print(\"Multiplication of num in list using reduce: \",myreduce(lambda a,b: a*b,lst))"
      ],
      "execution_count": 1,
      "outputs": [
        {
          "output_type": "stream",
          "text": [
            "Even number list using filter:  [2, 4, 6, 8]\n",
            "\n",
            "\n",
            "Multiplication of num in list using reduce:  40320\n"
          ],
          "name": "stdout"
        }
      ]
    },
    {
      "cell_type": "markdown",
      "metadata": {
        "id": "UyMF39k8tFTe"
      },
      "source": [
        "2. Implement List comprehensions to produce the following lists.\n",
        "Write List comprehensions to produce the following Lists\n",
        "\n",
        "['A', 'C', 'A', 'D', 'G', 'I', ’L’, ‘ D’]\n",
        "\n",
        "['x', 'xx', 'xxx', 'xxxx', 'y', 'yy', 'yyy', 'yyyy', 'z', 'zz', 'zzz', 'zzzz']\n",
        "\n",
        "['x', 'y', 'z', 'xx', 'yy', 'zz', 'xxx', 'yyy', 'zzz', 'xxxx', 'yyyy', 'zzzz']\n",
        "\n",
        "[[2], [3], [4], [3], [4], [5], [4], [5], [6]]\n",
        "\n",
        "[[2, 3, 4, 5], [3, 4, 5, 6],[4, 5, 6, 7], [5, 6, 7, 8]]\n",
        "\n",
        "[(1, 1), (2, 1), (3, 1), (1, 2), (2, 2), (3, 2), (1, 3), (2, 3), (3, 3)]"
      ]
    },
    {
      "cell_type": "code",
      "metadata": {
        "id": "49nSqbWmtF7c",
        "outputId": "ad00c7c8-a917-4358-dca2-b03cbcfe25c4",
        "colab": {
          "base_uri": "https://localhost:8080/",
          "height": 119
        }
      },
      "source": [
        "print([i for i in 'ACADGILD'])\n",
        "print([i*j for i in 'xyz' for j in range(1,5)])\n",
        "print([j*i for i in range(1,5) for j in 'xyz'])\n",
        "print([[i+j] for i in range(2,5) for j in range(3)])\n",
        "print([[i+j for i in range(2,6)] for j in range(4)])\n",
        "print([(j,i) for i in range(1,4) for j in range(1,4)])"
      ],
      "execution_count": 2,
      "outputs": [
        {
          "output_type": "stream",
          "text": [
            "['A', 'C', 'A', 'D', 'G', 'I', 'L', 'D']\n",
            "['x', 'xx', 'xxx', 'xxxx', 'y', 'yy', 'yyy', 'yyyy', 'z', 'zz', 'zzz', 'zzzz']\n",
            "['x', 'y', 'z', 'xx', 'yy', 'zz', 'xxx', 'yyy', 'zzz', 'xxxx', 'yyyy', 'zzzz']\n",
            "[[2], [3], [4], [3], [4], [5], [4], [5], [6]]\n",
            "[[2, 3, 4, 5], [3, 4, 5, 6], [4, 5, 6, 7], [5, 6, 7, 8]]\n",
            "[(1, 1), (2, 1), (3, 1), (1, 2), (2, 2), (3, 2), (1, 3), (2, 3), (3, 3)]\n"
          ],
          "name": "stdout"
        }
      ]
    },
    {
      "cell_type": "code",
      "metadata": {
        "id": "RwZjYLgyeH6S"
      },
      "source": [
        ""
      ],
      "execution_count": null,
      "outputs": []
    }
  ]
}